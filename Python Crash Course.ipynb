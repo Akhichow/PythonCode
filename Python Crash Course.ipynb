{
 "cells": [
  {
   "cell_type": "markdown",
   "id": "southeast-yugoslavia",
   "metadata": {},
   "source": [
    "## Comments"
   ]
  },
  {
   "cell_type": "code",
   "execution_count": 4,
   "id": "attempted-retirement",
   "metadata": {},
   "outputs": [
    {
     "data": {
      "text/plain": [
       "4"
      ]
     },
     "execution_count": 4,
     "metadata": {},
     "output_type": "execute_result"
    }
   ],
   "source": [
    "#1 + 1\n",
    "2 + 2\n",
    "#3 + 3"
   ]
  },
  {
   "cell_type": "markdown",
   "id": "transparent-conversion",
   "metadata": {},
   "source": [
    "## Basic Data Types"
   ]
  },
  {
   "cell_type": "code",
   "execution_count": 5,
   "id": "internal-vertical",
   "metadata": {},
   "outputs": [
    {
     "data": {
      "text/plain": [
       "'Jupyter Notebook'"
      ]
     },
     "execution_count": 5,
     "metadata": {},
     "output_type": "execute_result"
    }
   ],
   "source": [
    "\"Jupyter Notebook\""
   ]
  },
  {
   "cell_type": "code",
   "execution_count": 6,
   "id": "stable-exchange",
   "metadata": {},
   "outputs": [
    {
     "data": {
      "text/plain": [
       "'Jupyter Notebook'"
      ]
     },
     "execution_count": 6,
     "metadata": {},
     "output_type": "execute_result"
    }
   ],
   "source": [
    "'Jupyter Notebook'"
   ]
  },
  {
   "cell_type": "code",
   "execution_count": 8,
   "id": "polish-helmet",
   "metadata": {},
   "outputs": [
    {
     "ename": "SyntaxError",
     "evalue": "EOL while scanning string literal (<ipython-input-8-b6bb7725e76a>, line 1)",
     "output_type": "error",
     "traceback": [
      "\u001b[1;36m  File \u001b[1;32m\"<ipython-input-8-b6bb7725e76a>\"\u001b[1;36m, line \u001b[1;32m1\u001b[0m\n\u001b[1;33m    \"123 Rodoe'\u001b[0m\n\u001b[1;37m               ^\u001b[0m\n\u001b[1;31mSyntaxError\u001b[0m\u001b[1;31m:\u001b[0m EOL while scanning string literal\n"
     ]
    }
   ],
   "source": [
    "\"123 Rodoe'"
   ]
  },
  {
   "cell_type": "code",
   "execution_count": 9,
   "id": "abroad-capability",
   "metadata": {},
   "outputs": [
    {
     "data": {
      "text/plain": [
       "'123 Rodeo'"
      ]
     },
     "execution_count": 9,
     "metadata": {},
     "output_type": "execute_result"
    }
   ],
   "source": [
    "\"123 Rodeo\""
   ]
  },
  {
   "cell_type": "code",
   "execution_count": 10,
   "id": "potential-brighton",
   "metadata": {},
   "outputs": [
    {
     "data": {
      "text/plain": [
       "False"
      ]
     },
     "execution_count": 10,
     "metadata": {},
     "output_type": "execute_result"
    }
   ],
   "source": [
    "# Boolean\n",
    "True\n",
    "False"
   ]
  },
  {
   "cell_type": "code",
   "execution_count": 11,
   "id": "postal-finnish",
   "metadata": {},
   "outputs": [
    {
     "data": {
      "text/plain": [
       "True"
      ]
     },
     "execution_count": 11,
     "metadata": {},
     "output_type": "execute_result"
    }
   ],
   "source": [
    "5 < 7"
   ]
  },
  {
   "cell_type": "code",
   "execution_count": 12,
   "id": "million-place",
   "metadata": {},
   "outputs": [
    {
     "data": {
      "text/plain": [
       "True"
      ]
     },
     "execution_count": 12,
     "metadata": {},
     "output_type": "execute_result"
    }
   ],
   "source": [
    "7 != 9"
   ]
  },
  {
   "cell_type": "code",
   "execution_count": 13,
   "id": "hollow-diana",
   "metadata": {},
   "outputs": [
    {
     "data": {
      "text/plain": [
       "False"
      ]
     },
     "execution_count": 13,
     "metadata": {},
     "output_type": "execute_result"
    }
   ],
   "source": [
    "9 != 9"
   ]
  },
  {
   "cell_type": "code",
   "execution_count": 14,
   "id": "elegant-portland",
   "metadata": {},
   "outputs": [
    {
     "data": {
      "text/plain": [
       "4"
      ]
     },
     "execution_count": 14,
     "metadata": {},
     "output_type": "execute_result"
    }
   ],
   "source": [
    "14 // 3"
   ]
  },
  {
   "cell_type": "code",
   "execution_count": 15,
   "id": "finnish-entertainment",
   "metadata": {},
   "outputs": [
    {
     "data": {
      "text/plain": [
       "2"
      ]
     },
     "execution_count": 15,
     "metadata": {},
     "output_type": "execute_result"
    }
   ],
   "source": [
    "14 % 3"
   ]
  },
  {
   "cell_type": "code",
   "execution_count": 16,
   "id": "accredited-parts",
   "metadata": {},
   "outputs": [
    {
     "data": {
      "text/plain": [
       "0"
      ]
     },
     "execution_count": 16,
     "metadata": {},
     "output_type": "execute_result"
    }
   ],
   "source": [
    "14 % 7"
   ]
  },
  {
   "cell_type": "code",
   "execution_count": 20,
   "id": "extra-button",
   "metadata": {},
   "outputs": [
    {
     "data": {
      "text/plain": [
       "False"
      ]
     },
     "execution_count": 20,
     "metadata": {},
     "output_type": "execute_result"
    }
   ],
   "source": [
    "# Equality operator\n",
    "\n",
    "1 == 1\n",
    "2 == 2\n",
    "5 == 5.0\n",
    "\n",
    "\"Hello\" == \"hello\" #Case sensitivity matters for string equality"
   ]
  },
  {
   "cell_type": "code",
   "execution_count": 24,
   "id": "athletic-accreditation",
   "metadata": {},
   "outputs": [
    {
     "data": {
      "text/plain": [
       "True"
      ]
     },
     "execution_count": 24,
     "metadata": {},
     "output_type": "execute_result"
    }
   ],
   "source": [
    "# Inequality operator --> !=\n",
    "\n",
    "5 != 4\n",
    "4 != 4\n",
    "\n",
    "\"Hello\" != \"hello\""
   ]
  },
  {
   "cell_type": "markdown",
   "id": "numerous-afternoon",
   "metadata": {},
   "source": [
    "## Built-in Functions"
   ]
  },
  {
   "cell_type": "code",
   "execution_count": 29,
   "id": "warming-identification",
   "metadata": {},
   "outputs": [
    {
     "data": {
      "text/plain": [
       "36"
      ]
     },
     "execution_count": 29,
     "metadata": {},
     "output_type": "execute_result"
    }
   ],
   "source": [
    "text = \"How many characters do we have here?\"\n",
    "\n",
    "len(text)"
   ]
  },
  {
   "cell_type": "code",
   "execution_count": 30,
   "id": "helpful-ability",
   "metadata": {},
   "outputs": [
    {
     "data": {
      "text/plain": [
       "'3.14'"
      ]
     },
     "execution_count": 30,
     "metadata": {},
     "output_type": "execute_result"
    }
   ],
   "source": [
    "str(3.14)"
   ]
  },
  {
   "cell_type": "code",
   "execution_count": 33,
   "id": "anonymous-avenue",
   "metadata": {},
   "outputs": [
    {
     "data": {
      "text/plain": [
       "3.14"
      ]
     },
     "execution_count": 33,
     "metadata": {},
     "output_type": "execute_result"
    }
   ],
   "source": [
    "float(\"3.14\")"
   ]
  },
  {
   "cell_type": "code",
   "execution_count": 34,
   "id": "standard-enzyme",
   "metadata": {},
   "outputs": [
    {
     "data": {
      "text/plain": [
       "3"
      ]
     },
     "execution_count": 34,
     "metadata": {},
     "output_type": "execute_result"
    }
   ],
   "source": [
    "int(\"3\")"
   ]
  },
  {
   "cell_type": "code",
   "execution_count": 35,
   "id": "ready-bicycle",
   "metadata": {},
   "outputs": [
    {
     "data": {
      "text/plain": [
       "float"
      ]
     },
     "execution_count": 35,
     "metadata": {},
     "output_type": "execute_result"
    }
   ],
   "source": [
    "type(3.14)"
   ]
  },
  {
   "cell_type": "markdown",
   "id": "cardiac-trading",
   "metadata": {},
   "source": [
    "## Custom Functions"
   ]
  },
  {
   "cell_type": "code",
   "execution_count": 44,
   "id": "level-taiwan",
   "metadata": {},
   "outputs": [],
   "source": [
    "# Delcare a function that accepts a temperature in Celsius and returns it in Fahrenheit\n",
    "\n",
    "def convert_to_fahrenheit(temp_c = 0):\n",
    "    product = temp_c * 1.8\n",
    "    temp_f = product + 32\n",
    "    return temp_f"
   ]
  },
  {
   "cell_type": "code",
   "execution_count": 37,
   "id": "apart-adrian",
   "metadata": {},
   "outputs": [
    {
     "data": {
      "text/plain": [
       "89.6"
      ]
     },
     "execution_count": 37,
     "metadata": {},
     "output_type": "execute_result"
    }
   ],
   "source": [
    "convert_to_fahrenheit(32)"
   ]
  },
  {
   "cell_type": "code",
   "execution_count": 38,
   "id": "preceding-crime",
   "metadata": {},
   "outputs": [
    {
     "data": {
      "text/plain": [
       "32.0"
      ]
     },
     "execution_count": 38,
     "metadata": {},
     "output_type": "execute_result"
    }
   ],
   "source": [
    "convert_to_fahrenheit(0)"
   ]
  },
  {
   "cell_type": "code",
   "execution_count": 39,
   "id": "trying-access",
   "metadata": {},
   "outputs": [
    {
     "data": {
      "text/plain": [
       "75.2"
      ]
     },
     "execution_count": 39,
     "metadata": {},
     "output_type": "execute_result"
    }
   ],
   "source": [
    "convert_to_fahrenheit(temp_c = 24)"
   ]
  },
  {
   "cell_type": "code",
   "execution_count": 40,
   "id": "handmade-multimedia",
   "metadata": {},
   "outputs": [],
   "source": [
    "%config Completer.use_jedi = False"
   ]
  },
  {
   "cell_type": "code",
   "execution_count": 41,
   "id": "lucky-march",
   "metadata": {},
   "outputs": [
    {
     "data": {
      "text/plain": [
       "107.60000000000001"
      ]
     },
     "execution_count": 41,
     "metadata": {},
     "output_type": "execute_result"
    }
   ],
   "source": [
    "convert_to_fahrenheit(42)"
   ]
  },
  {
   "cell_type": "code",
   "execution_count": 45,
   "id": "surgical-organ",
   "metadata": {},
   "outputs": [
    {
     "data": {
      "text/plain": [
       "32.0"
      ]
     },
     "execution_count": 45,
     "metadata": {},
     "output_type": "execute_result"
    }
   ],
   "source": [
    "convert_to_fahrenheit()"
   ]
  },
  {
   "cell_type": "markdown",
   "id": "imported-prophet",
   "metadata": {},
   "source": [
    "## String Methods"
   ]
  },
  {
   "cell_type": "code",
   "execution_count": 2,
   "id": "surgical-party",
   "metadata": {},
   "outputs": [],
   "source": [
    "profession = \"Developer\""
   ]
  },
  {
   "cell_type": "code",
   "execution_count": 47,
   "id": "color-blood",
   "metadata": {},
   "outputs": [
    {
     "data": {
      "text/plain": [
       "'DEVELOPER'"
      ]
     },
     "execution_count": 47,
     "metadata": {},
     "output_type": "execute_result"
    }
   ],
   "source": [
    "profession.upper()"
   ]
  },
  {
   "cell_type": "code",
   "execution_count": 49,
   "id": "liberal-throw",
   "metadata": {},
   "outputs": [
    {
     "data": {
      "text/plain": [
       "'DEVELOPER'"
      ]
     },
     "execution_count": 49,
     "metadata": {},
     "output_type": "execute_result"
    }
   ],
   "source": [
    "\"Developer\".upper()"
   ]
  },
  {
   "cell_type": "code",
   "execution_count": 50,
   "id": "requested-tension",
   "metadata": {},
   "outputs": [
    {
     "data": {
      "text/plain": [
       "'developer'"
      ]
     },
     "execution_count": 50,
     "metadata": {},
     "output_type": "execute_result"
    }
   ],
   "source": [
    "profession.lower()"
   ]
  },
  {
   "cell_type": "code",
   "execution_count": 51,
   "id": "secure-halifax",
   "metadata": {},
   "outputs": [
    {
     "data": {
      "text/plain": [
       "'dEVELOPER'"
      ]
     },
     "execution_count": 51,
     "metadata": {},
     "output_type": "execute_result"
    }
   ],
   "source": [
    "profession.swapcase()"
   ]
  },
  {
   "cell_type": "code",
   "execution_count": null,
   "id": "acting-electric",
   "metadata": {},
   "outputs": [],
   "source": [
    "# immutable - incapable of change --> Strings\n",
    "# mutable - capable of change "
   ]
  },
  {
   "cell_type": "code",
   "execution_count": 52,
   "id": "permanent-thursday",
   "metadata": {},
   "outputs": [
    {
     "data": {
      "text/plain": [
       "'Developer'"
      ]
     },
     "execution_count": 52,
     "metadata": {},
     "output_type": "execute_result"
    }
   ],
   "source": [
    "profession"
   ]
  },
  {
   "cell_type": "code",
   "execution_count": 53,
   "id": "seasonal-donna",
   "metadata": {},
   "outputs": [
    {
     "data": {
      "text/plain": [
       "'Once Upon A Time'"
      ]
     },
     "execution_count": 53,
     "metadata": {},
     "output_type": "execute_result"
    }
   ],
   "source": [
    "\"once upon a time\".title()"
   ]
  },
  {
   "cell_type": "code",
   "execution_count": 5,
   "id": "advanced-pioneer",
   "metadata": {},
   "outputs": [],
   "source": [
    "profession = \"                        Developer                          \"                                                                     "
   ]
  },
  {
   "cell_type": "code",
   "execution_count": 55,
   "id": "average-variety",
   "metadata": {},
   "outputs": [
    {
     "data": {
      "text/plain": [
       "'Developer                          '"
      ]
     },
     "execution_count": 55,
     "metadata": {},
     "output_type": "execute_result"
    }
   ],
   "source": [
    "profession.lstrip()"
   ]
  },
  {
   "cell_type": "code",
   "execution_count": 56,
   "id": "afraid-fisher",
   "metadata": {},
   "outputs": [
    {
     "data": {
      "text/plain": [
       "'                        Developer'"
      ]
     },
     "execution_count": 56,
     "metadata": {},
     "output_type": "execute_result"
    }
   ],
   "source": [
    "profession.rstrip()"
   ]
  },
  {
   "cell_type": "code",
   "execution_count": 57,
   "id": "indoor-swedish",
   "metadata": {},
   "outputs": [
    {
     "data": {
      "text/plain": [
       "'Developer'"
      ]
     },
     "execution_count": 57,
     "metadata": {},
     "output_type": "execute_result"
    }
   ],
   "source": [
    "profession.strip()"
   ]
  },
  {
   "cell_type": "code",
   "execution_count": 4,
   "id": "analyzed-ethics",
   "metadata": {},
   "outputs": [
    {
     "data": {
      "text/plain": [
       "'D*!v*!lop*!r'"
      ]
     },
     "execution_count": 4,
     "metadata": {},
     "output_type": "execute_result"
    }
   ],
   "source": [
    "profession.replace(\"e\", \"*!\")"
   ]
  },
  {
   "cell_type": "code",
   "execution_count": 6,
   "id": "expired-director",
   "metadata": {},
   "outputs": [
    {
     "data": {
      "text/plain": [
       "'                        Developer                          '"
      ]
     },
     "execution_count": 6,
     "metadata": {},
     "output_type": "execute_result"
    }
   ],
   "source": [
    "profession"
   ]
  },
  {
   "cell_type": "code",
   "execution_count": 7,
   "id": "assigned-teacher",
   "metadata": {},
   "outputs": [
    {
     "data": {
      "text/plain": [
       "'D*!v*!lop*!r'"
      ]
     },
     "execution_count": 7,
     "metadata": {},
     "output_type": "execute_result"
    }
   ],
   "source": [
    "profession.strip().replace(\"e\",\"*!\")"
   ]
  },
  {
   "cell_type": "code",
   "execution_count": 9,
   "id": "occupational-france",
   "metadata": {},
   "outputs": [],
   "source": [
    "animal = \"rhinoceros\""
   ]
  },
  {
   "cell_type": "code",
   "execution_count": 10,
   "id": "respiratory-comment",
   "metadata": {},
   "outputs": [
    {
     "data": {
      "text/plain": [
       "True"
      ]
     },
     "execution_count": 10,
     "metadata": {},
     "output_type": "execute_result"
    }
   ],
   "source": [
    "animal.startswith(\"r\")"
   ]
  },
  {
   "cell_type": "code",
   "execution_count": 11,
   "id": "sacred-abortion",
   "metadata": {},
   "outputs": [
    {
     "data": {
      "text/plain": [
       "True"
      ]
     },
     "execution_count": 11,
     "metadata": {},
     "output_type": "execute_result"
    }
   ],
   "source": [
    "animal.capitalize().startswith(\"R\")"
   ]
  },
  {
   "cell_type": "code",
   "execution_count": 12,
   "id": "motivated-shakespeare",
   "metadata": {},
   "outputs": [
    {
     "data": {
      "text/plain": [
       "True"
      ]
     },
     "execution_count": 12,
     "metadata": {},
     "output_type": "execute_result"
    }
   ],
   "source": [
    "animal.endswith(\"s\")"
   ]
  },
  {
   "cell_type": "code",
   "execution_count": 13,
   "id": "sticky-virtue",
   "metadata": {},
   "outputs": [
    {
     "data": {
      "text/plain": [
       "True"
      ]
     },
     "execution_count": 13,
     "metadata": {},
     "output_type": "execute_result"
    }
   ],
   "source": [
    "\"ino\" in animal"
   ]
  },
  {
   "cell_type": "code",
   "execution_count": 14,
   "id": "going-biography",
   "metadata": {},
   "outputs": [
    {
     "data": {
      "text/plain": [
       "True"
      ]
     },
     "execution_count": 14,
     "metadata": {},
     "output_type": "execute_result"
    }
   ],
   "source": [
    "\"r\" in animal"
   ]
  },
  {
   "cell_type": "code",
   "execution_count": 15,
   "id": "thorough-documentation",
   "metadata": {},
   "outputs": [
    {
     "data": {
      "text/plain": [
       "True"
      ]
     },
     "execution_count": 15,
     "metadata": {},
     "output_type": "execute_result"
    }
   ],
   "source": [
    "\"os\" in animal"
   ]
  },
  {
   "cell_type": "code",
   "execution_count": 16,
   "id": "changed-trade",
   "metadata": {},
   "outputs": [
    {
     "data": {
      "text/plain": [
       "True"
      ]
     },
     "execution_count": 16,
     "metadata": {},
     "output_type": "execute_result"
    }
   ],
   "source": [
    "\"c\" in animal"
   ]
  },
  {
   "cell_type": "code",
   "execution_count": 17,
   "id": "significant-hotel",
   "metadata": {},
   "outputs": [
    {
     "data": {
      "text/plain": [
       "False"
      ]
     },
     "execution_count": 17,
     "metadata": {},
     "output_type": "execute_result"
    }
   ],
   "source": [
    "\"z\" in animal"
   ]
  },
  {
   "cell_type": "code",
   "execution_count": 18,
   "id": "starting-panel",
   "metadata": {},
   "outputs": [
    {
     "data": {
      "text/plain": [
       "True"
      ]
     },
     "execution_count": 18,
     "metadata": {},
     "output_type": "execute_result"
    }
   ],
   "source": [
    "\"z\" not in animal"
   ]
  },
  {
   "cell_type": "markdown",
   "id": "romance-paraguay",
   "metadata": {},
   "source": [
    "## Lists"
   ]
  },
  {
   "cell_type": "code",
   "execution_count": null,
   "id": "advised-philosophy",
   "metadata": {},
   "outputs": [],
   "source": [
    "# Mutable data structures that holds an ordered collection of elements"
   ]
  },
  {
   "cell_type": "code",
   "execution_count": 19,
   "id": "generous-carter",
   "metadata": {},
   "outputs": [
    {
     "data": {
      "text/plain": [
       "[1, 2, 3, 4]"
      ]
     },
     "execution_count": 19,
     "metadata": {},
     "output_type": "execute_result"
    }
   ],
   "source": [
    "[1, 2, 3, 4]"
   ]
  },
  {
   "cell_type": "code",
   "execution_count": 20,
   "id": "frozen-marketplace",
   "metadata": {},
   "outputs": [
    {
     "data": {
      "text/plain": [
       "[True, False, True, True]"
      ]
     },
     "execution_count": 20,
     "metadata": {},
     "output_type": "execute_result"
    }
   ],
   "source": [
    "[True, False, True,True]"
   ]
  },
  {
   "cell_type": "code",
   "execution_count": 21,
   "id": "brown-reality",
   "metadata": {},
   "outputs": [],
   "source": [
    "party_attendees = [\"Micheal\", \"Franklin\", \"Trevor\", \"Lamar\"]"
   ]
  },
  {
   "cell_type": "code",
   "execution_count": 22,
   "id": "stylish-subcommittee",
   "metadata": {},
   "outputs": [
    {
     "data": {
      "text/plain": [
       "['Micheal', 'Franklin', 'Trevor', 'Lamar']"
      ]
     },
     "execution_count": 22,
     "metadata": {},
     "output_type": "execute_result"
    }
   ],
   "source": [
    "party_attendees"
   ]
  },
  {
   "cell_type": "code",
   "execution_count": 23,
   "id": "qualified-fence",
   "metadata": {},
   "outputs": [],
   "source": [
    "%config Completer.use_jedi = False"
   ]
  },
  {
   "cell_type": "code",
   "execution_count": 24,
   "id": "cleared-kruger",
   "metadata": {},
   "outputs": [
    {
     "data": {
      "text/plain": [
       "['Micheal', 'Franklin', 'Trevor', 'Lamar']"
      ]
     },
     "execution_count": 24,
     "metadata": {},
     "output_type": "execute_result"
    }
   ],
   "source": [
    "party_attendees"
   ]
  },
  {
   "cell_type": "code",
   "execution_count": 25,
   "id": "outdoor-calculator",
   "metadata": {},
   "outputs": [
    {
     "data": {
      "text/plain": [
       "4"
      ]
     },
     "execution_count": 25,
     "metadata": {},
     "output_type": "execute_result"
    }
   ],
   "source": [
    "len(party_attendees)"
   ]
  },
  {
   "cell_type": "code",
   "execution_count": 26,
   "id": "after-leisure",
   "metadata": {},
   "outputs": [
    {
     "data": {
      "text/plain": [
       "list"
      ]
     },
     "execution_count": 26,
     "metadata": {},
     "output_type": "execute_result"
    }
   ],
   "source": [
    "type(party_attendees)"
   ]
  },
  {
   "cell_type": "code",
   "execution_count": 27,
   "id": "academic-bidder",
   "metadata": {},
   "outputs": [],
   "source": [
    "president = [\"Washington\", \"Jefferson\"]"
   ]
  },
  {
   "cell_type": "code",
   "execution_count": 28,
   "id": "manual-giving",
   "metadata": {},
   "outputs": [],
   "source": [
    "president.append(\"Trump\")"
   ]
  },
  {
   "cell_type": "code",
   "execution_count": 29,
   "id": "southeast-simple",
   "metadata": {},
   "outputs": [
    {
     "data": {
      "text/plain": [
       "['Washington', 'Jefferson', 'Trump']"
      ]
     },
     "execution_count": 29,
     "metadata": {},
     "output_type": "execute_result"
    }
   ],
   "source": [
    "president"
   ]
  },
  {
   "cell_type": "code",
   "execution_count": 30,
   "id": "thermal-browse",
   "metadata": {},
   "outputs": [],
   "source": [
    "pop_corn = [\"Salted\", \"Unsalted\", \"Cheese\"]"
   ]
  },
  {
   "cell_type": "code",
   "execution_count": 31,
   "id": "robust-speech",
   "metadata": {},
   "outputs": [
    {
     "data": {
      "text/plain": [
       "['Salted', 'Unsalted', 'Cheese']"
      ]
     },
     "execution_count": 31,
     "metadata": {},
     "output_type": "execute_result"
    }
   ],
   "source": [
    "pop_corn"
   ]
  },
  {
   "cell_type": "code",
   "execution_count": 32,
   "id": "judicial-woman",
   "metadata": {},
   "outputs": [
    {
     "data": {
      "text/plain": [
       "'Cheese'"
      ]
     },
     "execution_count": 32,
     "metadata": {},
     "output_type": "execute_result"
    }
   ],
   "source": [
    "pop_corn.pop()"
   ]
  },
  {
   "cell_type": "code",
   "execution_count": 33,
   "id": "weird-fiber",
   "metadata": {},
   "outputs": [
    {
     "data": {
      "text/plain": [
       "['Salted', 'Unsalted']"
      ]
     },
     "execution_count": 33,
     "metadata": {},
     "output_type": "execute_result"
    }
   ],
   "source": [
    "pop_corn"
   ]
  },
  {
   "cell_type": "code",
   "execution_count": 35,
   "id": "banner-rider",
   "metadata": {},
   "outputs": [],
   "source": [
    "pop_corn.append(\"Cheese\")"
   ]
  },
  {
   "cell_type": "code",
   "execution_count": 36,
   "id": "subsequent-flavor",
   "metadata": {},
   "outputs": [],
   "source": [
    "pop_corn.append(\"Caramel\")"
   ]
  },
  {
   "cell_type": "code",
   "execution_count": 37,
   "id": "impressive-cheese",
   "metadata": {},
   "outputs": [
    {
     "data": {
      "text/plain": [
       "['Salted', 'Unsalted', 'Cheese', 'Caramel']"
      ]
     },
     "execution_count": 37,
     "metadata": {},
     "output_type": "execute_result"
    }
   ],
   "source": [
    "pop_corn"
   ]
  },
  {
   "cell_type": "code",
   "execution_count": 38,
   "id": "affecting-cause",
   "metadata": {},
   "outputs": [],
   "source": [
    "pop_corn.remove(\"Salted\")"
   ]
  },
  {
   "cell_type": "code",
   "execution_count": 39,
   "id": "settled-norfolk",
   "metadata": {},
   "outputs": [
    {
     "data": {
      "text/plain": [
       "False"
      ]
     },
     "execution_count": 39,
     "metadata": {},
     "output_type": "execute_result"
    }
   ],
   "source": [
    "\"Salted\" in pop_corn"
   ]
  },
  {
   "cell_type": "code",
   "execution_count": 40,
   "id": "round-leisure",
   "metadata": {},
   "outputs": [
    {
     "data": {
      "text/plain": [
       "True"
      ]
     },
     "execution_count": 40,
     "metadata": {},
     "output_type": "execute_result"
    }
   ],
   "source": [
    "\"Unsalted\" in pop_corn"
   ]
  },
  {
   "cell_type": "markdown",
   "id": "intelligent-mount",
   "metadata": {},
   "source": [
    "## Index Positioning and Slicing"
   ]
  },
  {
   "cell_type": "code",
   "execution_count": 41,
   "id": "bridal-monitoring",
   "metadata": {},
   "outputs": [],
   "source": [
    "spiderman = \"Spiderman\""
   ]
  },
  {
   "cell_type": "code",
   "execution_count": 42,
   "id": "faced-border",
   "metadata": {},
   "outputs": [],
   "source": [
    "# 0 1 2 3 4 5 6 7 8\n",
    "# S p i d e r m a n\n",
    "# 9 8 7 6 5 4 3 2 1\n",
    "# - - - - - - - - -"
   ]
  },
  {
   "cell_type": "code",
   "execution_count": 43,
   "id": "sought-material",
   "metadata": {},
   "outputs": [
    {
     "data": {
      "text/plain": [
       "9"
      ]
     },
     "execution_count": 43,
     "metadata": {},
     "output_type": "execute_result"
    }
   ],
   "source": [
    "len(spiderman)"
   ]
  },
  {
   "cell_type": "code",
   "execution_count": 45,
   "id": "lightweight-rover",
   "metadata": {},
   "outputs": [
    {
     "data": {
      "text/plain": [
       "'S'"
      ]
     },
     "execution_count": 45,
     "metadata": {},
     "output_type": "execute_result"
    }
   ],
   "source": [
    "spiderman[0]"
   ]
  },
  {
   "cell_type": "code",
   "execution_count": 46,
   "id": "minute-aquatic",
   "metadata": {},
   "outputs": [
    {
     "data": {
      "text/plain": [
       "'n'"
      ]
     },
     "execution_count": 46,
     "metadata": {},
     "output_type": "execute_result"
    }
   ],
   "source": [
    "spiderman[8]"
   ]
  },
  {
   "cell_type": "code",
   "execution_count": 47,
   "id": "alert-framing",
   "metadata": {},
   "outputs": [
    {
     "data": {
      "text/plain": [
       "'n'"
      ]
     },
     "execution_count": 47,
     "metadata": {},
     "output_type": "execute_result"
    }
   ],
   "source": [
    "spiderman[-1]"
   ]
  },
  {
   "cell_type": "code",
   "execution_count": 48,
   "id": "informed-adventure",
   "metadata": {},
   "outputs": [
    {
     "data": {
      "text/plain": [
       "'S'"
      ]
     },
     "execution_count": 48,
     "metadata": {},
     "output_type": "execute_result"
    }
   ],
   "source": [
    "spiderman[-9]"
   ]
  },
  {
   "cell_type": "code",
   "execution_count": 49,
   "id": "twelve-citizen",
   "metadata": {},
   "outputs": [],
   "source": [
    "superheroes = [\"Ironman\", \"Hulk\", \"Thor\", \"Hawkeye\", \"Arnold Schwarzenegger\"]"
   ]
  },
  {
   "cell_type": "code",
   "execution_count": 50,
   "id": "bronze-mitchell",
   "metadata": {},
   "outputs": [
    {
     "data": {
      "text/plain": [
       "'Ironman'"
      ]
     },
     "execution_count": 50,
     "metadata": {},
     "output_type": "execute_result"
    }
   ],
   "source": [
    "superheroes[0]"
   ]
  },
  {
   "cell_type": "code",
   "execution_count": 51,
   "id": "asian-laser",
   "metadata": {},
   "outputs": [],
   "source": [
    "# 0 1 2 3 4\n",
    "# I H T H A\n",
    "# 5 4 3 2 1\n",
    "# - - - - -"
   ]
  },
  {
   "cell_type": "code",
   "execution_count": 53,
   "id": "close-router",
   "metadata": {},
   "outputs": [
    {
     "data": {
      "text/plain": [
       "'Thor'"
      ]
     },
     "execution_count": 53,
     "metadata": {},
     "output_type": "execute_result"
    }
   ],
   "source": [
    "superheroes[-5]\n",
    "superheroes[-3]"
   ]
  },
  {
   "cell_type": "code",
   "execution_count": 55,
   "id": "forced-sterling",
   "metadata": {},
   "outputs": [
    {
     "data": {
      "text/plain": [
       "['Hulk', 'Thor']"
      ]
     },
     "execution_count": 55,
     "metadata": {},
     "output_type": "execute_result"
    }
   ],
   "source": [
    "superheroes[1:3]\n",
    "# First number is inclusive & last number is exclusive"
   ]
  },
  {
   "cell_type": "code",
   "execution_count": 56,
   "id": "challenging-burke",
   "metadata": {},
   "outputs": [
    {
     "data": {
      "text/plain": [
       "['Thor', 'Hawkeye']"
      ]
     },
     "execution_count": 56,
     "metadata": {},
     "output_type": "execute_result"
    }
   ],
   "source": [
    "superheroes[2:4]"
   ]
  },
  {
   "cell_type": "code",
   "execution_count": 58,
   "id": "gothic-paraguay",
   "metadata": {},
   "outputs": [
    {
     "data": {
      "text/plain": [
       "['Ironman', 'Hulk']"
      ]
     },
     "execution_count": 58,
     "metadata": {},
     "output_type": "execute_result"
    }
   ],
   "source": [
    "superheroes[0:2]\n",
    "superheroes[:2]"
   ]
  },
  {
   "cell_type": "code",
   "execution_count": 63,
   "id": "primary-atlas",
   "metadata": {},
   "outputs": [
    {
     "data": {
      "text/plain": [
       "['Ironman', 'Hulk', 'Thor', 'Hawkeye', 'Arnold Schwarzenegger']"
      ]
     },
     "execution_count": 63,
     "metadata": {},
     "output_type": "execute_result"
    }
   ],
   "source": [
    "superheroes[2:5]\n",
    "superheroes[:]"
   ]
  },
  {
   "cell_type": "code",
   "execution_count": 64,
   "id": "random-institute",
   "metadata": {},
   "outputs": [
    {
     "data": {
      "text/plain": [
       "[]"
      ]
     },
     "execution_count": 64,
     "metadata": {},
     "output_type": "execute_result"
    }
   ],
   "source": [
    "superheroes[3:-3]"
   ]
  },
  {
   "cell_type": "code",
   "execution_count": 68,
   "id": "welsh-burden",
   "metadata": {},
   "outputs": [
    {
     "data": {
      "text/plain": [
       "['Hulk', 'Thor']"
      ]
     },
     "execution_count": 68,
     "metadata": {},
     "output_type": "execute_result"
    }
   ],
   "source": [
    "superheroes[1:-2]"
   ]
  },
  {
   "cell_type": "markdown",
   "id": "featured-tribune",
   "metadata": {},
   "source": [
    "## Dictionaries"
   ]
  },
  {
   "cell_type": "code",
   "execution_count": 69,
   "id": "foster-crazy",
   "metadata": {},
   "outputs": [],
   "source": [
    "# An unordered collection of key value pairs"
   ]
  },
  {
   "cell_type": "code",
   "execution_count": 70,
   "id": "removed-placement",
   "metadata": {},
   "outputs": [],
   "source": [
    "# Filet-mignon - 29.99\n",
    "# key          - value\n",
    "\n",
    "menu = {\n",
    "    \"Filet Mignon\": 29.99,\n",
    "    \"Big Mac\": 3.99,\n",
    "    \"Pizza\": 0.99,\n",
    "    \"Salmon\": 29.99\n",
    "}"
   ]
  },
  {
   "cell_type": "code",
   "execution_count": 71,
   "id": "universal-finger",
   "metadata": {},
   "outputs": [
    {
     "data": {
      "text/plain": [
       "{'Filet Mignon': 29.99, 'Big Mac': 3.99, 'Pizza': 0.99, 'Salmon': 29.99}"
      ]
     },
     "execution_count": 71,
     "metadata": {},
     "output_type": "execute_result"
    }
   ],
   "source": [
    "menu"
   ]
  },
  {
   "cell_type": "code",
   "execution_count": 72,
   "id": "quick-simpson",
   "metadata": {},
   "outputs": [
    {
     "data": {
      "text/plain": [
       "4"
      ]
     },
     "execution_count": 72,
     "metadata": {},
     "output_type": "execute_result"
    }
   ],
   "source": [
    "len(menu)"
   ]
  },
  {
   "cell_type": "code",
   "execution_count": 73,
   "id": "efficient-ancient",
   "metadata": {},
   "outputs": [
    {
     "data": {
      "text/plain": [
       "29.99"
      ]
     },
     "execution_count": 73,
     "metadata": {},
     "output_type": "execute_result"
    }
   ],
   "source": [
    "menu[\"Filet Mignon\"]"
   ]
  },
  {
   "cell_type": "code",
   "execution_count": 74,
   "id": "continuous-jones",
   "metadata": {},
   "outputs": [
    {
     "data": {
      "text/plain": [
       "3.99"
      ]
     },
     "execution_count": 74,
     "metadata": {},
     "output_type": "execute_result"
    }
   ],
   "source": [
    "menu[\"Big Mac\"]"
   ]
  },
  {
   "cell_type": "code",
   "execution_count": 77,
   "id": "verbal-integrity",
   "metadata": {},
   "outputs": [],
   "source": [
    "# menu[\"Tuna\"]\n",
    "# menu[\"salmon\"]"
   ]
  },
  {
   "cell_type": "code",
   "execution_count": 78,
   "id": "bibliographic-services",
   "metadata": {},
   "outputs": [],
   "source": [
    "menu[\"Burrito\"] = 13.99"
   ]
  },
  {
   "cell_type": "code",
   "execution_count": 79,
   "id": "enhanced-child",
   "metadata": {},
   "outputs": [
    {
     "data": {
      "text/plain": [
       "13.99"
      ]
     },
     "execution_count": 79,
     "metadata": {},
     "output_type": "execute_result"
    }
   ],
   "source": [
    "menu[\"Burrito\"]"
   ]
  },
  {
   "cell_type": "code",
   "execution_count": 80,
   "id": "acute-transmission",
   "metadata": {},
   "outputs": [
    {
     "data": {
      "text/plain": [
       "{'Filet Mignon': 29.99,\n",
       " 'Big Mac': 3.99,\n",
       " 'Pizza': 0.99,\n",
       " 'Salmon': 29.99,\n",
       " 'Burrito': 13.99}"
      ]
     },
     "execution_count": 80,
     "metadata": {},
     "output_type": "execute_result"
    }
   ],
   "source": [
    "menu"
   ]
  },
  {
   "cell_type": "code",
   "execution_count": 81,
   "id": "german-airline",
   "metadata": {},
   "outputs": [],
   "source": [
    "menu[\"Big Mac\"] = 2.99"
   ]
  },
  {
   "cell_type": "code",
   "execution_count": 82,
   "id": "decent-patrick",
   "metadata": {},
   "outputs": [
    {
     "data": {
      "text/plain": [
       "{'Filet Mignon': 29.99,\n",
       " 'Big Mac': 2.99,\n",
       " 'Pizza': 0.99,\n",
       " 'Salmon': 29.99,\n",
       " 'Burrito': 13.99}"
      ]
     },
     "execution_count": 82,
     "metadata": {},
     "output_type": "execute_result"
    }
   ],
   "source": [
    "menu"
   ]
  },
  {
   "cell_type": "code",
   "execution_count": 83,
   "id": "sudden-copyright",
   "metadata": {},
   "outputs": [
    {
     "data": {
      "text/plain": [
       "13.99"
      ]
     },
     "execution_count": 83,
     "metadata": {},
     "output_type": "execute_result"
    }
   ],
   "source": [
    "menu.pop(\"Burrito\")"
   ]
  },
  {
   "cell_type": "code",
   "execution_count": 85,
   "id": "frank-roads",
   "metadata": {},
   "outputs": [
    {
     "data": {
      "text/plain": [
       "True"
      ]
     },
     "execution_count": 85,
     "metadata": {},
     "output_type": "execute_result"
    }
   ],
   "source": [
    "\"Salmon\" in menu"
   ]
  },
  {
   "cell_type": "code",
   "execution_count": 86,
   "id": "demanding-bahrain",
   "metadata": {},
   "outputs": [
    {
     "data": {
      "text/plain": [
       "False"
      ]
     },
     "execution_count": 86,
     "metadata": {},
     "output_type": "execute_result"
    }
   ],
   "source": [
    "\"Hot Pockets\" in menu"
   ]
  },
  {
   "cell_type": "code",
   "execution_count": 87,
   "id": "alternative-roads",
   "metadata": {},
   "outputs": [],
   "source": [
    "menu[\"Hot Pockets\"] = 4.59"
   ]
  },
  {
   "cell_type": "code",
   "execution_count": 88,
   "id": "heavy-consultancy",
   "metadata": {},
   "outputs": [
    {
     "data": {
      "text/plain": [
       "True"
      ]
     },
     "execution_count": 88,
     "metadata": {},
     "output_type": "execute_result"
    }
   ],
   "source": [
    "\"Hot Pockets\" in menu"
   ]
  },
  {
   "cell_type": "code",
   "execution_count": 89,
   "id": "efficient-sandwich",
   "metadata": {},
   "outputs": [
    {
     "data": {
      "text/plain": [
       "True"
      ]
     },
     "execution_count": 89,
     "metadata": {},
     "output_type": "execute_result"
    }
   ],
   "source": [
    "\"Bubble gum\" not in menu"
   ]
  },
  {
   "cell_type": "code",
   "execution_count": 90,
   "id": "settled-degree",
   "metadata": {},
   "outputs": [
    {
     "data": {
      "text/plain": [
       "False"
      ]
     },
     "execution_count": 90,
     "metadata": {},
     "output_type": "execute_result"
    }
   ],
   "source": [
    "5.99 in menu.values()"
   ]
  },
  {
   "cell_type": "code",
   "execution_count": 91,
   "id": "strategic-correspondence",
   "metadata": {},
   "outputs": [
    {
     "data": {
      "text/plain": [
       "True"
      ]
     },
     "execution_count": 91,
     "metadata": {},
     "output_type": "execute_result"
    }
   ],
   "source": [
    "29.99 in menu.values()"
   ]
  },
  {
   "cell_type": "code",
   "execution_count": 92,
   "id": "weighted-possibility",
   "metadata": {},
   "outputs": [
    {
     "data": {
      "text/plain": [
       "dict_values([29.99, 2.99, 0.99, 29.99, 4.59])"
      ]
     },
     "execution_count": 92,
     "metadata": {},
     "output_type": "execute_result"
    }
   ],
   "source": [
    "menu.values()"
   ]
  },
  {
   "cell_type": "code",
   "execution_count": null,
   "id": "psychological-omaha",
   "metadata": {},
   "outputs": [],
   "source": []
  }
 ],
 "metadata": {
  "kernelspec": {
   "display_name": "Python 3",
   "language": "python",
   "name": "python3"
  },
  "language_info": {
   "codemirror_mode": {
    "name": "ipython",
    "version": 3
   },
   "file_extension": ".py",
   "mimetype": "text/x-python",
   "name": "python",
   "nbconvert_exporter": "python",
   "pygments_lexer": "ipython3",
   "version": "3.8.5"
  }
 },
 "nbformat": 4,
 "nbformat_minor": 5
}
